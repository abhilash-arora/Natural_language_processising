{
  "nbformat": 4,
  "nbformat_minor": 0,
  "metadata": {
    "colab": {
      "name": "Natural_Language_Processing.ipynb",
      "provenance": [],
      "mount_file_id": "1ei0Rd6mfarFlWDbKzZhYE59M7LrjrNYL",
      "authorship_tag": "ABX9TyMYsF/1T/R3tMDVh803Vakn",
      "include_colab_link": true
    },
    "kernelspec": {
      "name": "python3",
      "display_name": "Python 3"
    }
  },
  "cells": [
    {
      "cell_type": "markdown",
      "metadata": {
        "id": "view-in-github",
        "colab_type": "text"
      },
      "source": [
        "<a href=\"https://colab.research.google.com/github/abhilash-arora/Natural_language_processising/blob/main/Natural_Language_Processing.ipynb\" target=\"_parent\"><img src=\"https://colab.research.google.com/assets/colab-badge.svg\" alt=\"Open In Colab\"/></a>"
      ]
    },
    {
      "cell_type": "code",
      "metadata": {
        "id": "R4PCsa4jpQdF"
      },
      "source": [
        "!pip install -q gTTs"
      ],
      "execution_count": 41,
      "outputs": []
    },
    {
      "cell_type": "code",
      "metadata": {
        "id": "DYxl1SmCjKP1"
      },
      "source": [
        "import nltk"
      ],
      "execution_count": 34,
      "outputs": []
    },
    {
      "cell_type": "code",
      "metadata": {
        "id": "tOAesyC2jTVp",
        "outputId": "e44a854d-27d3-481b-9fc1-5e7bf77163ba",
        "colab": {
          "base_uri": "https://localhost:8080/"
        }
      },
      "source": [
        "import nltk.corpus\n",
        "nltk.download('punkt')\n",
        "nltk.download('averaged_perceptron_tagger')\n",
        "nltk.download('maxent_ne_chunker')\n",
        "nltk.download('words')\n",
        "  "
      ],
      "execution_count": 38,
      "outputs": [
        {
          "output_type": "stream",
          "text": [
            "[nltk_data] Downloading package punkt to /root/nltk_data...\n",
            "[nltk_data]   Package punkt is already up-to-date!\n",
            "[nltk_data] Downloading package averaged_perceptron_tagger to\n",
            "[nltk_data]     /root/nltk_data...\n",
            "[nltk_data]   Package averaged_perceptron_tagger is already up-to-\n",
            "[nltk_data]       date!\n",
            "[nltk_data] Downloading package maxent_ne_chunker to\n",
            "[nltk_data]     /root/nltk_data...\n",
            "[nltk_data]   Package maxent_ne_chunker is already up-to-date!\n",
            "[nltk_data] Downloading package words to /root/nltk_data...\n",
            "[nltk_data]   Package words is already up-to-date!\n"
          ],
          "name": "stdout"
        },
        {
          "output_type": "execute_result",
          "data": {
            "text/plain": [
              "True"
            ]
          },
          "metadata": {
            "tags": []
          },
          "execution_count": 38
        }
      ]
    },
    {
      "cell_type": "code",
      "metadata": {
        "id": "o1OF39FujXxS",
        "outputId": "c261057e-4fb7-4846-8b87-9158df7b939b",
        "colab": {
          "base_uri": "https://localhost:8080/"
        }
      },
      "source": [
        "#Tokenization\n",
        "#word tokenizer\n",
        "from nltk.tokenize import word_tokenize\n",
        "chess=\"Samay Raina is the best chess streamer in the world\"\n",
        "word_tokenize(chess,language='english')"
      ],
      "execution_count": 10,
      "outputs": [
        {
          "output_type": "execute_result",
          "data": {
            "text/plain": [
              "['Samay',\n",
              " 'Raina',\n",
              " 'is',\n",
              " 'the',\n",
              " 'best',\n",
              " 'chess',\n",
              " 'streamer',\n",
              " 'in',\n",
              " 'the',\n",
              " 'world']"
            ]
          },
          "metadata": {
            "tags": []
          },
          "execution_count": 10
        }
      ]
    },
    {
      "cell_type": "code",
      "metadata": {
        "id": "aDHcD7p_jhoz",
        "outputId": "ee4394e5-b02a-402e-9bcf-6d501f96ca32",
        "colab": {
          "base_uri": "https://localhost:8080/"
        }
      },
      "source": [
        "#sentence tokenizer\n",
        "from nltk.tokenize import sent_tokenize\n",
        "chess2=\"Samay Raina is the best chess streamer in the world. Sagar Shah is the best chess coach in the world\"\n",
        "sent_tokenize(chess2,language='english')"
      ],
      "execution_count": 12,
      "outputs": [
        {
          "output_type": "execute_result",
          "data": {
            "text/plain": [
              "['Samay Raina is the best chess streamer in the world.',\n",
              " 'Sagar Shah is the best chess coach in the world']"
            ]
          },
          "metadata": {
            "tags": []
          },
          "execution_count": 12
        }
      ]
    },
    {
      "cell_type": "code",
      "metadata": {
        "id": "jFU48wZrlMmb",
        "outputId": "68c2b322-7a70-4c70-ed70-9d0c5070e92f",
        "colab": {
          "base_uri": "https://localhost:8080/"
        }
      },
      "source": [
        "#Checking the number of tokens\n",
        "len(word_tokenize(chess))"
      ],
      "execution_count": 16,
      "outputs": [
        {
          "output_type": "execute_result",
          "data": {
            "text/plain": [
              "2"
            ]
          },
          "metadata": {
            "tags": []
          },
          "execution_count": 16
        }
      ]
    },
    {
      "cell_type": "code",
      "metadata": {
        "id": "bvaAdH18lk38",
        "outputId": "4ab5dd7a-e21e-469f-999c-65f776061a48",
        "colab": {
          "base_uri": "https://localhost:8080/"
        }
      },
      "source": [
        "#bigrams and ngrams\n",
        "astro=\"Can anybody hear me or am I talking to myself? My mind is runing empty in the search for someone else\"\n",
        "astro_token=(word_tokenize(astro))\n",
        "list(nltk.bigrams(astro_token))"
      ],
      "execution_count": 19,
      "outputs": [
        {
          "output_type": "execute_result",
          "data": {
            "text/plain": [
              "[('Can', 'anybody'),\n",
              " ('anybody', 'hear'),\n",
              " ('hear', 'me'),\n",
              " ('me', 'or'),\n",
              " ('or', 'am'),\n",
              " ('am', 'I'),\n",
              " ('I', 'talking'),\n",
              " ('talking', 'to'),\n",
              " ('to', 'myself'),\n",
              " ('myself', '?'),\n",
              " ('?', 'My'),\n",
              " ('My', 'mind'),\n",
              " ('mind', 'is'),\n",
              " ('is', 'runing'),\n",
              " ('runing', 'empty'),\n",
              " ('empty', 'in'),\n",
              " ('in', 'the'),\n",
              " ('the', 'search'),\n",
              " ('search', 'for'),\n",
              " ('for', 'someone'),\n",
              " ('someone', 'else')]"
            ]
          },
          "metadata": {
            "tags": []
          },
          "execution_count": 19
        }
      ]
    },
    {
      "cell_type": "code",
      "metadata": {
        "id": "88qRDAT0mlnG",
        "outputId": "6a7d8cb9-7d7a-4bd0-c058-5c117bdad489",
        "colab": {
          "base_uri": "https://localhost:8080/"
        }
      },
      "source": [
        "list(nltk.trigrams(astro_token))"
      ],
      "execution_count": 20,
      "outputs": [
        {
          "output_type": "execute_result",
          "data": {
            "text/plain": [
              "[('Can', 'anybody', 'hear'),\n",
              " ('anybody', 'hear', 'me'),\n",
              " ('hear', 'me', 'or'),\n",
              " ('me', 'or', 'am'),\n",
              " ('or', 'am', 'I'),\n",
              " ('am', 'I', 'talking'),\n",
              " ('I', 'talking', 'to'),\n",
              " ('talking', 'to', 'myself'),\n",
              " ('to', 'myself', '?'),\n",
              " ('myself', '?', 'My'),\n",
              " ('?', 'My', 'mind'),\n",
              " ('My', 'mind', 'is'),\n",
              " ('mind', 'is', 'runing'),\n",
              " ('is', 'runing', 'empty'),\n",
              " ('runing', 'empty', 'in'),\n",
              " ('empty', 'in', 'the'),\n",
              " ('in', 'the', 'search'),\n",
              " ('the', 'search', 'for'),\n",
              " ('search', 'for', 'someone'),\n",
              " ('for', 'someone', 'else')]"
            ]
          },
          "metadata": {
            "tags": []
          },
          "execution_count": 20
        }
      ]
    },
    {
      "cell_type": "code",
      "metadata": {
        "id": "yyDcMlAynI3R",
        "outputId": "3bf2997d-f484-4a8e-8f10-cbbd822528a9",
        "colab": {
          "base_uri": "https://localhost:8080/"
        }
      },
      "source": [
        "list(nltk.ngrams(astro_token,5))"
      ],
      "execution_count": 22,
      "outputs": [
        {
          "output_type": "execute_result",
          "data": {
            "text/plain": [
              "[('Can', 'anybody', 'hear', 'me', 'or'),\n",
              " ('anybody', 'hear', 'me', 'or', 'am'),\n",
              " ('hear', 'me', 'or', 'am', 'I'),\n",
              " ('me', 'or', 'am', 'I', 'talking'),\n",
              " ('or', 'am', 'I', 'talking', 'to'),\n",
              " ('am', 'I', 'talking', 'to', 'myself'),\n",
              " ('I', 'talking', 'to', 'myself', '?'),\n",
              " ('talking', 'to', 'myself', '?', 'My'),\n",
              " ('to', 'myself', '?', 'My', 'mind'),\n",
              " ('myself', '?', 'My', 'mind', 'is'),\n",
              " ('?', 'My', 'mind', 'is', 'runing'),\n",
              " ('My', 'mind', 'is', 'runing', 'empty'),\n",
              " ('mind', 'is', 'runing', 'empty', 'in'),\n",
              " ('is', 'runing', 'empty', 'in', 'the'),\n",
              " ('runing', 'empty', 'in', 'the', 'search'),\n",
              " ('empty', 'in', 'the', 'search', 'for'),\n",
              " ('in', 'the', 'search', 'for', 'someone'),\n",
              " ('the', 'search', 'for', 'someone', 'else')]"
            ]
          },
          "metadata": {
            "tags": []
          },
          "execution_count": 22
        }
      ]
    },
    {
      "cell_type": "code",
      "metadata": {
        "id": "4Pf3EOjjnQ5E",
        "outputId": "3230088f-c179-4af6-8b97-3f105ec21ad7",
        "colab": {
          "base_uri": "https://localhost:8080/",
          "height": 35
        }
      },
      "source": [
        "#stemming\n",
        "from nltk.stem import PorterStemmer\n",
        "my_stem=PorterStemmer()\n",
        "my_stem.stem(\"Eating\")"
      ],
      "execution_count": 24,
      "outputs": [
        {
          "output_type": "execute_result",
          "data": {
            "application/vnd.google.colaboratory.intrinsic+json": {
              "type": "string"
            },
            "text/plain": [
              "'eat'"
            ]
          },
          "metadata": {
            "tags": []
          },
          "execution_count": 24
        }
      ]
    },
    {
      "cell_type": "code",
      "metadata": {
        "id": "Rx0OMZ_Gnj8J",
        "outputId": "45b2f122-7b7a-45a6-d217-59fbe3e3f186",
        "colab": {
          "base_uri": "https://localhost:8080/"
        }
      },
      "source": [
        "#pos_tagging\n",
        "tom=\"Tom Hank is the best actor in the world\"\n",
        "tom_token=(word_tokenize(tom))\n",
        "nltk.pos_tag(tom_token)"
      ],
      "execution_count": 29,
      "outputs": [
        {
          "output_type": "execute_result",
          "data": {
            "text/plain": [
              "[('Tom', 'NNP'),\n",
              " ('Hank', 'NNP'),\n",
              " ('is', 'VBZ'),\n",
              " ('the', 'DT'),\n",
              " ('best', 'JJS'),\n",
              " ('actor', 'NN'),\n",
              " ('in', 'IN'),\n",
              " ('the', 'DT'),\n",
              " ('world', 'NN')]"
            ]
          },
          "metadata": {
            "tags": []
          },
          "execution_count": 29
        }
      ]
    },
    {
      "cell_type": "code",
      "metadata": {
        "id": "y5ZHx-n8oQDD",
        "outputId": "542e0b82-3e9d-47fb-ec5b-bef95fb7836a",
        "colab": {
          "base_uri": "https://localhost:8080/"
        }
      },
      "source": [
        "#named entity recognition\n",
        "from nltk import ne_chunk\n",
        "president=\"Barack Obama was the 44th President of America\"\n",
        "president_token=word_tokenize(president)\n",
        "president_pos=nltk.pos_tag(president_token)\n",
        "print(ne_chunk(president_pos))"
      ],
      "execution_count": 39,
      "outputs": [
        {
          "output_type": "stream",
          "text": [
            "(S\n",
            "  (PERSON Barack/NNP)\n",
            "  (PERSON Obama/NNP)\n",
            "  was/VBD\n",
            "  the/DT\n",
            "  44th/JJ\n",
            "  President/NNP\n",
            "  of/IN\n",
            "  (GPE America/NNP))\n"
          ],
          "name": "stdout"
        }
      ]
    },
    {
      "cell_type": "code",
      "metadata": {
        "id": "_RlHjjXypJbf",
        "outputId": "be794feb-6c95-4ce9-ac91-29f0ee848a0f",
        "colab": {
          "base_uri": "https://localhost:8080/",
          "height": 75
        }
      },
      "source": [
        "#Converting text to speech\n",
        "from gtts import gTTS\n",
        "from IPython.display import Audio\n",
        "tts=gTTS('Magnus Carslen is the number one chess player in the world')\n",
        "tts.save('1.wave')\n",
        "sound_file='1.wave'\n",
        "Audio(sound_file,autoplay=True)"
      ],
      "execution_count": 50,
      "outputs": [
        {
          "output_type": "execute_result",
          "data": {
            "text/html": [
              "\n",
              "                <audio controls=\"controls\" autoplay=\"autoplay\">\n",
              "                    <source src=\"data:None;base64,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\" type=\"None\" />\n",
              "                    Your browser does not support the audio element.\n",
              "                </audio>\n",
              "              "
            ],
            "text/plain": [
              "<IPython.lib.display.Audio object>"
            ]
          },
          "metadata": {
            "tags": []
          },
          "execution_count": 50
        }
      ]
    },
    {
      "cell_type": "code",
      "metadata": {
        "id": "zUQhF48Wps2g"
      },
      "source": [
        ""
      ],
      "execution_count": null,
      "outputs": []
    }
  ]
}